{
 "cells": [
  {
   "cell_type": "markdown",
   "metadata": {},
   "source": [
    "# Sort increasing order but all zeros should be at right hand side 1"
   ]
  },
  {
   "cell_type": "code",
   "execution_count": 1,
   "metadata": {},
   "outputs": [
    {
     "name": "stdout",
     "output_type": "stream",
     "text": [
      "1,2,10,4,1,56,2,1,3,56,4,0,0,0,0,0\n"
     ]
    }
   ],
   "source": [
    "A =  [0,1,2,10,4,1,0,56,2,0,1,3,0,56,0,4]\n",
    "B = list()\n",
    "for i in A:\n",
    "    if i==0:\n",
    "            B.append(str(i))\n",
    "    else:        \n",
    "            print(i,end=',')\n",
    "C=\",\".join(B)            \n",
    "print(C)       \n"
   ]
  },
  {
   "cell_type": "markdown",
   "metadata": {},
   "source": [
    "# Merge two sorted list"
   ]
  },
  {
   "cell_type": "code",
   "execution_count": 6,
   "metadata": {},
   "outputs": [
    {
     "name": "stdout",
     "output_type": "stream",
     "text": [
      "The list 1 is : [10, 20, 40, 60, 70, 80]\n",
      "The list 2 is : [5, 15, 25, 35, 45, 60]\n",
      "The combined sorted list is : [5, 10, 15, 20, 25, 35, 40, 45, 60, 60, 70, 80]\n"
     ]
    }
   ],
   "source": [
    "list1 = [10,20,40,60,70,80]\n",
    "list2 = [5,15,25,35,45,60]\n",
    "print (\"The list 1 is : \" + str(list1)) \n",
    "print (\"The list 2 is : \" + str(list2))\n",
    "res = sorted(list1 + list2)\n",
    "print (\"The combined sorted list is : \" + str(res)) \n"
   ]
  },
  {
   "cell_type": "code",
   "execution_count": null,
   "metadata": {},
   "outputs": [],
   "source": []
  }
 ],
 "metadata": {
  "kernelspec": {
   "display_name": "Python 3",
   "language": "python",
   "name": "python3"
  },
  "language_info": {
   "codemirror_mode": {
    "name": "ipython",
    "version": 3
   },
   "file_extension": ".py",
   "mimetype": "text/x-python",
   "name": "python",
   "nbconvert_exporter": "python",
   "pygments_lexer": "ipython3",
   "version": "3.7.6"
  }
 },
 "nbformat": 4,
 "nbformat_minor": 4
}
